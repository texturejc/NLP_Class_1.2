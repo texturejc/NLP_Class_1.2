{
 "cells": [
  {
   "cell_type": "markdown",
   "id": "da9b83e5-dc39-4e33-a152-cc2f07ccd890",
   "metadata": {},
   "source": [
    "# Basic data structures and operations in python\n",
    "\n",
    "![](python_logo.png)\n",
    "\n",
    "Like all coding languages, python performs <i>operations</i> on <i>data</i>. Any use of python will require you to be familiar with the containers that store data and the operations native to python. This class will look at the data structures and operations in base python––that is, python when it is not augmented by specialist libraries. We will learn about the data structures an operations of specialist NLP libraries in due course.\n",
    "* Data types in python can be <b>mutable</b> or <b>immutable</b>. Mutable data types can be changed (i.e added to or subtracted from after creation) and include lists (`list`), dictionaries (`dict`), and sets (`set`). Immutable data types like strings (`string`), tuples (`tuple`), and (`int`, `float`, `complex`) cannot be changed after creation; altering them requires the creation of new object.\n",
    "* <b>Operations</b> in python are used to manipulate data. Examples include <b>iteration</b> (`for` and `while` loops; `list comprehensions`), <b>conditional statements</b> (`if`, `elif`, `else`), <b>logical operators</b> (`and`, `or`, `not`), and <b>functions</b> (`def`)."
   ]
  },
  {
   "cell_type": "markdown",
   "id": "b5deb71b-69ee-4726-93f6-33c1e946886c",
   "metadata": {},
   "source": [
    "## Data types"
   ]
  },
  {
   "cell_type": "markdown",
   "id": "9d083672-0220-4c61-b3d1-1cd72ab0c84d",
   "metadata": {},
   "source": [
    "## Lists\n",
    "\n",
    "The `list` is one of the most versatile data types in python. It is created using square brackets. Essentially it is an ordered container for almost any type of data. The full functionality of the `list` and all the other data structures below [can be found here](https://docs.python.org/3/tutorial/datastructures.html). some of the more common `list` operations can be found below."
   ]
  },
  {
   "cell_type": "code",
   "execution_count": null,
   "id": "00f8739f-a025-48b5-99af-75518e75883b",
   "metadata": {},
   "outputs": [],
   "source": [
    "# Create a list\n",
    "disciplines = [\"history\", \"psychology\", \"physics\", \"art\"]\n",
    "\n",
    "# Add an item to the list\n",
    "disciplines.append(\"NLP\")\n",
    "\n",
    "# Remove an item from the list\n",
    "disciplines.remove(\"physics\")\n",
    "\n",
    "# Print the final list\n",
    "print(\"Updated discipline list\", disciplines)\n",
    "\n",
    "# Find a specific item in a list by index\n",
    "print(\"The second item in the list is\", disciplines[1])\n",
    "\n",
    "# Find a last item in a list by index\n",
    "print(\"The last item in the list is\", disciplines[-1])\n",
    "\n",
    "# Find a range of imems in a list by index\n",
    "print(\"The second two items in the list are\", disciplines[1:3])"
   ]
  },
  {
   "cell_type": "markdown",
   "id": "a1cfbbe2-c902-4838-93c5-f801d94af769",
   "metadata": {},
   "source": [
    "#### Problem: Create a `list` of all London boroughs and sort it alphabetically"
   ]
  },
  {
   "cell_type": "markdown",
   "id": "39bd0667-d78c-4057-a28d-b3d0cab0b705",
   "metadata": {},
   "source": [
    "## Sets\n",
    "\n",
    "A `set` is an unordered collection of data that contains no repeats. Sets are especially useful when checking if a given item is present in a large dataset, because there is no duplication. For example, checking if the word \"apple\" is present in a novel is much quicker when the words in the novel are represented as a set. Sets are created using curly braces."
   ]
  },
  {
   "cell_type": "code",
   "execution_count": null,
   "id": "1b1da44c-e760-4c4b-9c2d-1b22728ab7da",
   "metadata": {},
   "outputs": [],
   "source": [
    "words_as_list = [\"cat\", \"rat\", \"bat\", \"rat\", \"rat\", \"rat\", \"rat\", \"rat\", \"bat\", \"bat\", \"bat\", \"bat\", \"bat\", \"bat\"]\n",
    "words_as_set = {\"cat\", \"rat\", \"bat\", \"rat\", \"rat\", \"rat\", \"rat\", \"rat\", \"bat\", \"bat\", \"bat\", \"bat\", \"bat\", \"bat\"}\n",
    "\n",
    "print(\"List of words:\", words_as_list)\n",
    "print(\"Set of words:\", words_as_set)"
   ]
  },
  {
   "cell_type": "markdown",
   "id": "5d200e35-3a86-4a5d-9ffb-4a4c05d915f6",
   "metadata": {},
   "source": [
    "## Dictionaries\n",
    "\n",
    "A dictionary or `dict` stores information in key-value pairs so that the value can be accessed using the key. Unlike lists, dictionaries are not ordered. A dictionary is created using curly braces surrounding at least one `key:value` pair."
   ]
  },
  {
   "cell_type": "code",
   "execution_count": null,
   "id": "c91335bf-dab8-46be-bd20-e730a28c54fd",
   "metadata": {},
   "outputs": [],
   "source": [
    "# Create a dictionary\n",
    "grades = {\"Numail\": 85, \"Sean\": 90, \"Alice\": 78}\n",
    "\n",
    "# Update Sean's grade\n",
    "grades[\"Sean\"] = 95\n",
    "\n",
    "# Add a new student\n",
    "grades[\"Diana\"] = 88\n",
    "\n",
    "# Print the dictionary\n",
    "print(\"Student Grades:\", grades)"
   ]
  },
  {
   "cell_type": "markdown",
   "id": "e2172922-efda-45e6-bae3-46f1cda13e61",
   "metadata": {},
   "source": [
    "#### Problem: Create a `dict`of all London boroughs and their populations"
   ]
  },
  {
   "cell_type": "markdown",
   "id": "2ab52e31-d469-4696-af40-7ce8ee43bf0b",
   "metadata": {},
   "source": [
    "## Tuples\n",
    "\n",
    "Tuples are like lists in that they are ordered and can contain multiple data types. However, they are immutable: they cannot be chaged after creation. Typically, tuples are used when there is a need for computational efficiency, as they use less memory than lists. Tuples are created using round brackets."
   ]
  },
  {
   "cell_type": "code",
   "execution_count": null,
   "id": "f77ec8e4-e176-4669-81d3-3cd5fb9c53df",
   "metadata": {},
   "outputs": [],
   "source": [
    "# Define a tuple\n",
    "coordinate = (10, 20)\n",
    "\n",
    "# Access elements\n",
    "x, y = coordinate\n",
    "print(\"X:\", x, \"Y:\", y)"
   ]
  },
  {
   "cell_type": "markdown",
   "id": "01ebe026-ae11-4b59-897c-612d8ed10089",
   "metadata": {},
   "source": [
    "#### Problem: Find the area of the rectangle with the vertices below:"
   ]
  },
  {
   "cell_type": "code",
   "execution_count": null,
   "id": "381eac5c-5caa-4f8a-b0a7-32d61f40e33c",
   "metadata": {},
   "outputs": [],
   "source": [
    "a = (1,3)\n",
    "b = (-1, 3)\n",
    "c = (-1, -6)\n",
    "d = (1, -6)\n"
   ]
  },
  {
   "cell_type": "markdown",
   "id": "cad167a0-b5ea-4d56-a0ca-4392fba2edc5",
   "metadata": {},
   "source": [
    "## Strings\n",
    "\n",
    "Strings are the form that text data takes, and are therefore the most important data type for NLP. We will cover them at length in the next class. For completeness, here is an example of string manipulation."
   ]
  },
  {
   "cell_type": "code",
   "execution_count": null,
   "id": "6e593a19-88c5-4a81-bcd6-ee73d1669b4e",
   "metadata": {},
   "outputs": [],
   "source": [
    "# Define a string\n",
    "sentence = \"The sun shone, having no alternative, on the nothing new.\"\n",
    "\n",
    "# Convert to uppercase\n",
    "uppercase_sentence = sentence.upper()\n",
    "\n",
    "# Replace a word\n",
    "modified_sentence = sentence.replace(\"sun\", \"moon\")\n",
    "\n",
    "print(\"Uppercase:\", uppercase_sentence)\n",
    "print(\"Modified:\", modified_sentence)"
   ]
  },
  {
   "cell_type": "markdown",
   "id": "f1398b29-17df-4931-8fd2-ab3c6cbef6f8",
   "metadata": {},
   "source": [
    "## Operations"
   ]
  },
  {
   "cell_type": "markdown",
   "id": "8ce24e26-e778-41d0-9fe8-8ccec02555ec",
   "metadata": {},
   "source": [
    "### The `for` loop \n",
    "\n",
    "The `for` loop is one of the most common iterative operations in python. It typically works by performing an operation on an item in a data structure and storing the result"
   ]
  },
  {
   "cell_type": "code",
   "execution_count": null,
   "id": "4a719242-d774-4e84-8c29-b29ed1c0f46f",
   "metadata": {},
   "outputs": [],
   "source": [
    "# Create an empty list\n",
    "cap_letters = []\n",
    "\n",
    "sentence = \"It was a bright cold day in April, and the clocks were striking thirteen\"\n",
    "\n",
    "# Iterate across the letters of the sentence and put the capitalised version of each on the empty list\n",
    "for i in sentence:\n",
    "    cap_letters.append(i.upper())\n",
    "print(\"Capital letters:\", cap_letters)\n",
    "    \n",
    "# Squares of numbers from 1 to 5\n",
    "result = []\n",
    "for i in range(1, 6):\n",
    "    result.append(i ** 2)\n",
    "print(\"Squares:\", result)\n"
   ]
  },
  {
   "cell_type": "markdown",
   "id": "82153ae5-b7c9-419e-8ec2-2423a1d49293",
   "metadata": {},
   "source": [
    "### The `list` comprehension\n",
    "\n",
    "The `list comprehension` is a more efficient version of the `for` loop. It generally better to use list comprehensions when working with large datasets, though they can make your code harder to follow."
   ]
  },
  {
   "cell_type": "code",
   "execution_count": null,
   "id": "b4b2464a-ce93-4544-820e-5ff079fd63b3",
   "metadata": {},
   "outputs": [],
   "source": [
    "low_letters = [i.lower() for i in sentence]\n",
    "squares = [i**2 for i in range(1,6)]\n",
    "\n",
    "print(\"Lowercase letters:\", low_letters)\n",
    "print(\"Sum of squares:\", squares)"
   ]
  },
  {
   "cell_type": "markdown",
   "id": "08e28b9d-cb87-47e9-b467-ff49988f4f92",
   "metadata": {},
   "source": [
    "### The `if-else` loop\n",
    "\n",
    "The `if-else` loop is used to select data from a data structure based on a conditional and perform an operation on it. Logical operators like `and`, `or`, and `not` can be used to make complex selections."
   ]
  },
  {
   "cell_type": "code",
   "execution_count": null,
   "id": "46294b86-0940-4163-af27-72823da3f929",
   "metadata": {},
   "outputs": [],
   "source": [
    "numbers_1 = [1, 2, 3, 4, 5, 6]\n",
    "\n",
    "even_1 = []\n",
    "odd_1 = []\n",
    "\n",
    "for i in numbers_1:\n",
    "    if i % 2 == 0:\n",
    "        even_1.append(i)\n",
    "        print(f\"{i} is even\")\n",
    "    else:\n",
    "        odd_1.append(i)\n",
    "        print(f\"{i} is odd\")\n",
    "\n",
    "print(\"Even list:\", even_1)\n",
    "print(\"Odd list:\", odd_1)\n"
   ]
  },
  {
   "cell_type": "code",
   "execution_count": null,
   "id": "28ddae91-29b9-495e-9277-b6b085e67eaf",
   "metadata": {},
   "outputs": [],
   "source": [
    "numbers_2 = [1, 2, 3, 4, 5, 6, 10, 13, 16, 19, 27]\n",
    "\n",
    "even_2 = []\n",
    "odd_2 = []\n",
    "\n",
    "for i in numbers_2:\n",
    "    if i % 2 == 0 and i > 10 or i == 2: # Impose some extra logical conditions\n",
    "        even_2.append(i)\n",
    "        print(f\"{i} is even\")\n",
    "    else:\n",
    "        odd_2.append(i)\n",
    "        print(f\"{i} is odd\")\n",
    "\n",
    "print(\"New even list:\", even_2)\n",
    "print(\"New odd list:\", odd_2)\n",
    "\n",
    "\n"
   ]
  },
  {
   "cell_type": "markdown",
   "id": "6c1c3fd7-297a-450c-9298-db7fed825716",
   "metadata": {},
   "source": [
    "#### Problem: Create a list of the first names of everyone in the class. Use an `if-then` loop to create a list that contains the names with an even number of letters and a list for names with an odd number of letters."
   ]
  },
  {
   "cell_type": "markdown",
   "id": "f4c08b8d-4ec4-4ddc-a526-be907899f3c5",
   "metadata": {},
   "source": [
    "## Functions\n",
    "\n",
    "Functions allow you to 'package' a particular piece of complex code so you can re-use efficiently. The <b>argument</b> of a function is the data that the function operates on. Functions are created using the `def` operation, which is short for <i>define</i>."
   ]
  },
  {
   "cell_type": "code",
   "execution_count": null,
   "id": "c344fdaa-1617-4ad8-8df8-d5b8364cbe4f",
   "metadata": {},
   "outputs": [],
   "source": [
    "# Make some data\n",
    "\n",
    "words = [\n",
    "    'mirror', 'penguin', 'flame', 'apple', 'candle', 'quilt', 'rose', 'egg', 'jewel', 'queen',\n",
    "    'nest', 'kite', 'dragon', 'house', 'owl', 'kite', 'olive', 'glove', 'banana', 'engine',\n",
    "    'amber', 'rabbit', 'yield', 'jungle', 'rose', 'lamp', 'egg', 'olive', 'mirror', 'union',\n",
    "    'jewel', 'xylophone', 'dog', 'ant', 'kettle', 'vase', 'quiet', 'candle', 'glove', 'ocean',\n",
    "    'whale', 'king', 'night', 'yarn', 'stone', 'xylophone', 'cat', 'tree', 'net', 'ocean',\n",
    "    'whale', 'dragon', 'air', 'yacht', 'train', 'iron', 'monkey', 'quiet', 'lamp', 'paint',\n",
    "    'violet', 'hill', 'cat', 'candle', 'hat', 'amber', 'umbrella', 'rabbit', 'jacket', 'sun',\n",
    "    'heart', 'vase', 'crane', 'night', 'grape', 'jungle', 'olive', 'nest', 'net', 'quiet',\n",
    "    'quilt', 'tree', 'violet', 'heart', 'eagle', 'candle', 'rabbit', 'ant', 'flame', 'peach',\n",
    "    'ant', 'turtle', 'river', 'flame', 'banana', 'engine', 'fish', 'victory', 'uniform', 'uniform'\n",
    "]\n",
    "\n",
    "# Create a function that returns a list of the words that contain the letter 'u'\n",
    "\n",
    "def find_u(word_list):\n",
    "    u_words = []\n",
    "    for i in word_list:\n",
    "        if 'u' in i:\n",
    "            u_words.append(i)\n",
    "    return u_words\n",
    "    \n",
    "find_u(words)"
   ]
  },
  {
   "cell_type": "code",
   "execution_count": null,
   "id": "a2c8b67c-aae1-4f8f-99dc-6a6372dcb503",
   "metadata": {},
   "outputs": [],
   "source": [
    "find_u(['funny', 'sad'])"
   ]
  },
  {
   "cell_type": "markdown",
   "id": "99dd338a-c550-421c-92d2-176c7505f78e",
   "metadata": {},
   "source": [
    "# Refresher on `pandas`\n",
    "\n",
    "![](Pandas.png)\n",
    "\n",
    "There are many data science libraries in python, but `pandas` has emerged as the default for most purposes. It is an exceptionally versatile library that can be used to manipulate data of many different kinds. It is impossible to cover all the functionality of `pandas`, but the some of the most important operations are covered below. The data we use comes from a Twitter dataset."
   ]
  },
  {
   "cell_type": "code",
   "execution_count": null,
   "id": "d49b2b48-60dd-4924-be6e-202c6c3eb97d",
   "metadata": {},
   "outputs": [],
   "source": [
    "# Import pandas and shorten the name for covenience\n",
    "# Import seaborn, a plotting library\n",
    "import pandas as pd \n",
    "import seaborn as sns\n",
    "sns.set()"
   ]
  },
  {
   "cell_type": "markdown",
   "id": "0208a151-e665-48b6-a51d-87a4bc2e5956",
   "metadata": {},
   "source": [
    "### Viewing data"
   ]
  },
  {
   "cell_type": "code",
   "execution_count": null,
   "id": "a4c8ca8c-014b-4eae-8652-c60da6996f34",
   "metadata": {},
   "outputs": [],
   "source": [
    "# Create a dataframe by importing our news data.\n",
    "\n",
    "df = pd.read_csv(\"twitter_gender.csv\", index_col = 0, encoding = \"latin-1\")\n"
   ]
  },
  {
   "cell_type": "code",
   "execution_count": null,
   "id": "50fa20bd-9ded-475f-a39e-adadb9e6e8ad",
   "metadata": {},
   "outputs": [],
   "source": [
    "# View the entire dataframe\n",
    "df "
   ]
  },
  {
   "cell_type": "code",
   "execution_count": null,
   "id": "0353270a-60bb-439c-8ac2-cb75c0d28141",
   "metadata": {},
   "outputs": [],
   "source": [
    "# See the column names\n",
    "df.columns"
   ]
  },
  {
   "cell_type": "code",
   "execution_count": null,
   "id": "98cf39e6-dc15-4f4e-b9c8-6f2b1f0cf114",
   "metadata": {},
   "outputs": [],
   "source": [
    "# View a specific row\n",
    "\n",
    "df.iloc[50]"
   ]
  },
  {
   "cell_type": "code",
   "execution_count": null,
   "id": "62653ad3-c3a3-4b84-ba97-b1e2d5368d3a",
   "metadata": {},
   "outputs": [],
   "source": [
    "# View the top n rows\n",
    "df.head(n = 10)"
   ]
  },
  {
   "cell_type": "code",
   "execution_count": null,
   "id": "0a100abf-4baf-41ce-8889-a0f368ba5b18",
   "metadata": {},
   "outputs": [],
   "source": [
    "# View the last n rows\n",
    "df.tail(n = 10)"
   ]
  },
  {
   "cell_type": "code",
   "execution_count": null,
   "id": "97b891d8-8c74-4091-9b04-85ab8738b185",
   "metadata": {},
   "outputs": [],
   "source": [
    "# View a selection of rows\n",
    "df.iloc[34:50]"
   ]
  },
  {
   "cell_type": "code",
   "execution_count": null,
   "id": "3a113f94-723a-41b4-9ccb-85d25be14a71",
   "metadata": {},
   "outputs": [],
   "source": [
    "# Create a new dataframe with fewer rows\n",
    "df_1 = df.iloc[34:50]\n",
    "df_1"
   ]
  },
  {
   "cell_type": "code",
   "execution_count": null,
   "id": "c0873535-4ae2-4aed-8bc6-266c45ab2561",
   "metadata": {},
   "outputs": [],
   "source": [
    "# View a column\n",
    "df['text']"
   ]
  },
  {
   "cell_type": "code",
   "execution_count": null,
   "id": "63f532ee-884b-4324-867f-16aa05c2046a",
   "metadata": {},
   "outputs": [],
   "source": [
    "# Count the frequencies of column items\n",
    "df['gender'].value_counts()"
   ]
  },
  {
   "cell_type": "code",
   "execution_count": null,
   "id": "b79a4634-a7fa-4929-b990-fe1b8fd46936",
   "metadata": {},
   "outputs": [],
   "source": [
    "# Create a new dataframe with fewer columns\n",
    "df_cols = df[['gender', 'text', 'retweet_count']]\n",
    "df_cols"
   ]
  },
  {
   "cell_type": "code",
   "execution_count": null,
   "id": "a85d35b2-44b6-4bd2-a81d-a975f963c263",
   "metadata": {},
   "outputs": [],
   "source": [
    "# Create a dataframe for a specific category in a column––here, all the headlines from the iNews\n",
    "\n",
    "male = df[df['gender'] == 'male']\n",
    "male"
   ]
  },
  {
   "cell_type": "code",
   "execution_count": null,
   "id": "43728c62-4979-4dc9-9326-532610758e5a",
   "metadata": {},
   "outputs": [],
   "source": [
    "# Get the mean of a specific variable for each cetegory in a column (also words for median, sum, standard deviation and other descriptive statistics).\n",
    "df.groupby('gender')['retweet_count'].mean()"
   ]
  },
  {
   "cell_type": "code",
   "execution_count": null,
   "id": "78580c5e-70ff-43b4-9a96-a4e9c9dc13c9",
   "metadata": {},
   "outputs": [],
   "source": [
    "# Plot the differences between categories\n",
    "sns.pointplot(x = 'gender' , y = 'retweet_count', data = df)"
   ]
  },
  {
   "cell_type": "code",
   "execution_count": null,
   "id": "a315e3ea-f8e9-466f-9af8-1f0757e3ae06",
   "metadata": {},
   "outputs": [],
   "source": [
    "# Get the index of the max or min of a given variable\n",
    "\n",
    "most = df['retweet_count'].idxmax()\n",
    "least = df['retweet_count'].idxmin()\n",
    "\n",
    "print(\"The tweet with the most retweets is:\", df['text'][most])\n",
    "print(\"The tweet with the leasts retweets is:\", df['text'][least])"
   ]
  },
  {
   "cell_type": "code",
   "execution_count": null,
   "id": "3f4b01dc-c40e-4dae-90ab-dc683d2907d4",
   "metadata": {},
   "outputs": [],
   "source": []
  }
 ],
 "metadata": {
  "kernelspec": {
   "display_name": "Python 3 (ipykernel)",
   "language": "python",
   "name": "python3"
  },
  "language_info": {
   "codemirror_mode": {
    "name": "ipython",
    "version": 3
   },
   "file_extension": ".py",
   "mimetype": "text/x-python",
   "name": "python",
   "nbconvert_exporter": "python",
   "pygments_lexer": "ipython3",
   "version": "3.9.18"
  }
 },
 "nbformat": 4,
 "nbformat_minor": 5
}
